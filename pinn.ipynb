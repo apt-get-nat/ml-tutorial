{
 "cells": [
  {
   "cell_type": "code",
   "execution_count": null,
   "id": "830ac907-942f-4eb3-a3c0-1145bdaf64cf",
   "metadata": {},
   "outputs": [],
   "source": [
    "import os\n",
    "os.environ['KERAS_BACKEND'] = 'torch'\n",
    "import torch\n",
    "import keras\n",
    "from keras import layers\n",
    "import matplotlib.pyplot as plt\n",
    "import numpy as np\n",
    "from tqdm.notebook import tqdm\n",
    "from scipy.stats.qmc import LatinHypercube"
   ]
  },
  {
   "cell_type": "code",
   "execution_count": null,
   "id": "cb778c36-a09d-4b0a-b660-73ddc5c3b4f2",
   "metadata": {},
   "outputs": [],
   "source": [
    "Nbd = 100\n",
    "N = 100**2\n",
    "\n",
    "xt_bd = np.vstack((\n",
    "    np.vstack((np.linspace(-1,1,Nbd),np.zeros(Nbd))).transpose(),\n",
    "    np.vstack((-np.ones(Nbd),np.linspace(1/Nbd,1,Nbd))).transpose(),\n",
    "    np.vstack((np.ones(Nbd),np.linspace(1/Nbd,1,Nbd))).transpose()\n",
    "))\n",
    "u_bd = np.hstack((\n",
    "    -np.sin(np.pi*np.linspace(-1,1,Nbd)),\n",
    "    np.zeros(2*Nbd)\n",
    "))\n",
    "ν = 0.01\n",
    "\n",
    "sampler = LatinHypercube(2)\n",
    "xt = sampler.random(n=N)\n",
    "xt[:,0] = 2*xt[:,0]-1\n",
    "\n",
    "xt = np.vstack((xt_bd,xt))"
   ]
  },
  {
   "cell_type": "code",
   "execution_count": null,
   "id": "f5738f31-ecd4-40aa-8103-a2097c6c5af8",
   "metadata": {},
   "outputs": [],
   "source": [
    "def lossfn(y_true,y_pred):\n",
    "    bd_loss = keras.losses.mean_squared_error(y_true,y_pred)\n",
    "    \n",
    "    xt_tensor = torch.tensor(xt,requires_grad=True, device=y_pred.device)\n",
    "    xt_tensor.grad = None\n",
    "    u = model(xt_tensor).squeeze()\n",
    "    xt_grad = torch.autograd.grad(u,xt_tensor,grad_outputs=torch.ones(u.shape,device=u.device),retain_graph=True,create_graph=True)[0]\n",
    "    du_dx = xt_grad[:,0]\n",
    "    du_dt = xt_grad[:,1]\n",
    "    xt_grad2 = torch.autograd.grad(du_dx,xt_tensor,grad_outputs=torch.ones(u.shape,device=u.device),retain_graph=True)[0]\n",
    "    d2u_dx2 = xt_grad2[:,0]\n",
    "\n",
    "    residual = du_dt + u * du_dx - ( ν / np.pi) * d2u_dx2\n",
    "    phys_loss = torch.sum(torch.pow(residual,2))/N\n",
    "    \n",
    "    return phys_loss + bd_loss"
   ]
  },
  {
   "cell_type": "code",
   "execution_count": null,
   "id": "068095a9-6ba1-4a2b-974f-fe30d08757ea",
   "metadata": {},
   "outputs": [],
   "source": [
    "nnlayers = [20]*9\n",
    "\n",
    "model = keras.Sequential([])\n",
    "model.add(keras.Input(shape=(2,)))\n",
    "for L in nnlayers:\n",
    "    model.add(layers.Dense(L, activation='tanh'))\n",
    "model.add(layers.Dense(1))\n",
    "\n",
    "model.compile(loss=lossfn)"
   ]
  },
  {
   "cell_type": "code",
   "execution_count": null,
   "id": "472a2878-b547-4cbc-a904-d318f5e15170",
   "metadata": {},
   "outputs": [],
   "source": [
    "# Unfortunately, this is where we must leave keras behind\n",
    "# and write a torch-style training loop\n",
    "\n",
    "def run_epoch(model, input, target):\n",
    "    def closure():\n",
    "        optimizer.zero_grad()\n",
    "        output = model(input)\n",
    "        lossvec = lossfn(target,output)\n",
    "        loss = torch.sum(lossvec)/Nbd\n",
    "        loss.backward()\n",
    "        return loss\n",
    "    \n",
    "    loss = optimizer.step(closure)\n",
    "\n",
    "    return loss.item()"
   ]
  },
  {
   "cell_type": "code",
   "execution_count": null,
   "id": "f381ae9e-3e34-4a43-84bc-a23b4179e4bb",
   "metadata": {},
   "outputs": [],
   "source": [
    "epochs = 10000\n",
    "patience = 10\n",
    "threshold = 1e-3\n",
    "\n",
    "losses = np.array([0]*epochs)\n",
    "optimizer = torch.optim.LBFGS(model.parameters())\n",
    "bar = tqdm(range(epochs))\n",
    "for e in bar:\n",
    "    model.train(True)\n",
    "    loss = run_epoch(model,xt_bd,u_bd)\n",
    "    losses[e] = loss\n",
    "    bar.set_description(f'epoch {e+1}, loss: {loss:.2e}')\n",
    "    \n",
    "    if e > patience and np.max(np.abs(losses[e-patience:e]-loss))<threshold*loss:\n",
    "        print('Model converged.')\n",
    "        break\n",
    "        \n",
    "plt.plot(losses)"
   ]
  },
  {
   "cell_type": "code",
   "execution_count": null,
   "id": "ae12edfb-1bbd-4ed4-a283-9b209703a410",
   "metadata": {},
   "outputs": [],
   "source": [
    "x_full, t_full = np.meshgrid(np.linspace(-1,1,512),np.linspace(0,1,256))\n",
    "xt_full = np.vstack((x_full.ravel(),t_full.ravel())).transpose()\n",
    "u_full = model.predict(xt_full)\n",
    "\n",
    "u_full = np.reshape(u_full,(256,512))"
   ]
  },
  {
   "cell_type": "code",
   "execution_count": null,
   "id": "97ccb9d3-062b-4c21-bcc4-f7401886d22e",
   "metadata": {},
   "outputs": [],
   "source": [
    "plt.imshow(u_full,origin='lower',extent=[-1, 1, 0, 1])"
   ]
  },
  {
   "cell_type": "code",
   "execution_count": null,
   "id": "e7b7305a-1e23-4a32-9ae1-b789f54d9ffa",
   "metadata": {},
   "outputs": [],
   "source": []
  }
 ],
 "metadata": {
  "kernelspec": {
   "display_name": "Python 3 (ipykernel)",
   "language": "python",
   "name": "python3"
  },
  "language_info": {
   "codemirror_mode": {
    "name": "ipython",
    "version": 3
   },
   "file_extension": ".py",
   "mimetype": "text/x-python",
   "name": "python",
   "nbconvert_exporter": "python",
   "pygments_lexer": "ipython3",
   "version": "3.12.0"
  }
 },
 "nbformat": 4,
 "nbformat_minor": 5
}
