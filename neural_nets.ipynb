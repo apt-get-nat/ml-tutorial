{
 "cells": [
  {
   "cell_type": "code",
   "execution_count": null,
   "id": "4328723b-0ff5-46cf-8cae-3eafc2829b45",
   "metadata": {},
   "outputs": [],
   "source": [
    "import os\n",
    "os.environ['KERAS_BACKEND'] = 'torch'\n",
    "import torch\n",
    "import keras\n",
    "from keras import layers\n",
    "import matplotlib.pyplot as plt\n",
    "import numpy as np\n",
    "from tqdm.notebook import tqdm\n",
    "from sklearn.datasets import load_breast_cancer"
   ]
  },
  {
   "cell_type": "code",
   "execution_count": null,
   "id": "4146e253-ec00-4680-ac4e-091a97bfef95",
   "metadata": {},
   "outputs": [],
   "source": [
    "data = load_breast_cancer()\n",
    "x = data['data'][:-10]\n",
    "y = data['target'][:-10]\n",
    "x_test = data['data'][-10:]\n",
    "y_test = data['target'][-10:]\n",
    "print(x.shape, data['feature_names'])\n",
    "print(y.shape, data['target_names'])"
   ]
  },
  {
   "cell_type": "code",
   "execution_count": null,
   "id": "ad83ec83-f018-43d6-ab0f-90781717c9a1",
   "metadata": {},
   "outputs": [],
   "source": [
    "model = keras.Sequential([\n",
    "    layers.Input(shape=(30,)),\n",
    "    layers.Dense(20, activation='tanh'),\n",
    "    layers.Dropout(rate=0.2),\n",
    "    layers.Dense(12, activation='tanh'),\n",
    "    layers.Dropout(rate=0.2),\n",
    "    layers.Dense(4, activation='tanh'),\n",
    "    layers.Dense(1, activation=\"sigmoid\")\n",
    "])\n",
    "model.compile(loss=\"binary_crossentropy\", optimizer=keras.optimizers.Adam(), metrics=[\"binary_accuracy\"])\n",
    "model.summary()"
   ]
  },
  {
   "cell_type": "code",
   "execution_count": null,
   "id": "834efc36-75f0-4a36-9e39-0c8799b8adce",
   "metadata": {
    "scrolled": true
   },
   "outputs": [],
   "source": [
    "history = model.fit(x,y,epochs=100,validation_split=0.1)"
   ]
  },
  {
   "cell_type": "code",
   "execution_count": null,
   "id": "fe82e9bd-af29-4556-a6a6-9fd12e3f6ba7",
   "metadata": {},
   "outputs": [],
   "source": [
    "threshold = 0.5\n",
    "\n",
    "y_pred = np.squeeze(model.predict(x_test))\n",
    "y_class = np.array([1 if prediction > threshold else 0 for prediction in y_pred])\n",
    "print(y_class)\n",
    "print(y_test)"
   ]
  },
  {
   "cell_type": "code",
   "execution_count": null,
   "id": "448eec0c-24e7-46fe-b3bd-67816b0a2136",
   "metadata": {},
   "outputs": [],
   "source": []
  }
 ],
 "metadata": {
  "kernelspec": {
   "display_name": "Python 3 (ipykernel)",
   "language": "python",
   "name": "python3"
  },
  "language_info": {
   "codemirror_mode": {
    "name": "ipython",
    "version": 3
   },
   "file_extension": ".py",
   "mimetype": "text/x-python",
   "name": "python",
   "nbconvert_exporter": "python",
   "pygments_lexer": "ipython3",
   "version": "3.12.0"
  }
 },
 "nbformat": 4,
 "nbformat_minor": 5
}
