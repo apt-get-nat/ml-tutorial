{
 "cells": [
  {
   "cell_type": "code",
   "execution_count": null,
   "id": "4dc610cd-c967-4d00-a74a-00df3ea4cbb8",
   "metadata": {},
   "outputs": [],
   "source": [
    "import os\n",
    "os.environ['KERAS_BACKEND'] = 'torch'\n",
    "import torch\n",
    "import keras\n",
    "from keras import layers\n",
    "import matplotlib.pyplot as plt\n",
    "import numpy as np\n",
    "from tqdm.notebook import tqdm\n",
    "from math import isnan\n",
    "from cdasws import CdasWs, timeinterval\n",
    "import datetime\n",
    "import spacepy"
   ]
  },
  {
   "cell_type": "code",
   "execution_count": null,
   "id": "4c895785-bdee-4c8b-9bad-6e6745c56be7",
   "metadata": {},
   "outputs": [],
   "source": [
    "cdas = CdasWs()\n",
    "dataset = 'PSP_FLD_L2_MAG_RTN_1MIN'\n",
    "var_names = cdas.get_variable_names(dataset)\n",
    "\n",
    "train_interval = timeinterval.TimeInterval(datetime.datetime(2021,5,15),datetime.datetime(2021,8,1))\n",
    "\n",
    "status, rawdtraining = cdas.get_data(dataset, var_names, train_interval)"
   ]
  },
  {
   "cell_type": "code",
   "execution_count": null,
   "id": "de991e6c-cf33-4003-b1a8-48e77cbc9e6a",
   "metadata": {},
   "outputs": [],
   "source": [
    "TIMEDELTA = datetime.timedelta(minutes=1)\n",
    "good = [not isnan(val) for val in rawdtraining['psp_fld_l2_mag_RTN_1min'][:,0]]\n",
    "train_t = np.array(rawdtraining['epoch_mag_RTN_1min'][good])\n",
    "train_d = np.array(rawdtraining['psp_fld_l2_mag_RTN_1min'][good,:])\n"
   ]
  },
  {
   "cell_type": "code",
   "execution_count": null,
   "id": "b626b4ad-842c-4f81-be92-cc9bcf627b01",
   "metadata": {},
   "outputs": [],
   "source": [
    "TIME_STEPS = 240\n",
    "FEATURES = train_d.shape[-1]\n",
    "\n",
    "# Generated training sequences for use in the model.\n",
    "def create_sequences(values, times, time_steps):\n",
    "    if len(times.shape) == 1:\n",
    "        times = np.expand_dims(times,-1)\n",
    "    xout = []\n",
    "    tout = []\n",
    "    for i in tqdm(range(len(values) - time_steps + 1)):\n",
    "        if times[i+time_steps-1]-times[i] == (time_steps-1)*TIMEDELTA:\n",
    "            xout.append(values[i : (i + time_steps)])\n",
    "            tout.append(times[i:(i+time_steps)])\n",
    "    return (np.stack(xout),np.stack(tout))\n",
    "\n",
    "\n",
    "(x_train, t_train) = create_sequences(train_d,train_t,TIME_STEPS)\n",
    "print(\"Training input shape: \", x_train.shape)"
   ]
  },
  {
   "cell_type": "code",
   "execution_count": null,
   "id": "2f9948cb-fa9e-48dc-b4b0-7298af3685bb",
   "metadata": {},
   "outputs": [],
   "source": [
    "model = keras.Sequential([\n",
    "    layers.Input(shape=(TIME_STEPS, FEATURES)),\n",
    "    layers.Conv1D(\n",
    "        filters=32,\n",
    "        kernel_size=10,\n",
    "        padding=\"same\",\n",
    "        activation=\"relu\",\n",
    "    ),\n",
    "    layers.Dropout(rate=0.2),\n",
    "    layers.Conv1D(\n",
    "        filters=8,\n",
    "        kernel_size=10,\n",
    "        padding=\"same\",\n",
    "        activation=\"relu\",\n",
    "    ),\n",
    "    layers.Dropout(rate=0.2),\n",
    "    layers.Conv1D(\n",
    "        filters=4,\n",
    "        kernel_size=10,\n",
    "        padding=\"same\",\n",
    "        activation=\"relu\",\n",
    "    ),\n",
    "    layers.Conv1D(filters=FEATURES, kernel_size=4, padding=\"same\"),\n",
    "])\n",
    "model.compile(optimizer=keras.optimizers.Adam(learning_rate=0.001), loss=\"mse\")\n",
    "model.summary()"
   ]
  },
  {
   "cell_type": "code",
   "execution_count": null,
   "id": "d2fc459d-b211-4aea-8739-a3c064fc4a9c",
   "metadata": {
    "scrolled": true
   },
   "outputs": [],
   "source": [
    "history = model.fit(\n",
    "    x_train,\n",
    "    x_train,\n",
    "    epochs=10,\n",
    "    batch_size=128,\n",
    "    validation_split=0.1,\n",
    "    callbacks=[\n",
    "        keras.callbacks.EarlyStopping(monitor=\"val_loss\", patience=5, mode=\"min\")\n",
    "    ],\n",
    ")"
   ]
  },
  {
   "cell_type": "code",
   "execution_count": null,
   "id": "7653d492-c52a-41a2-8432-4c7ca7841081",
   "metadata": {},
   "outputs": [],
   "source": [
    "plt.plot(history.history[\"loss\"], label=\"Training Loss\")\n",
    "plt.plot(history.history[\"val_loss\"], label=\"Validation Loss\")\n",
    "plt.legend()\n",
    "plt.show()"
   ]
  },
  {
   "cell_type": "code",
   "execution_count": null,
   "id": "79df26d7-3f80-456e-acf5-0422e757d264",
   "metadata": {},
   "outputs": [],
   "source": [
    "# Get train MAE loss.\n",
    "x_train_pred = model.predict(x_train)\n",
    "train_mae_loss = np.mean(np.abs(x_train_pred - x_train), axis=1)\n",
    "train_mae_loss = train_mae_loss.reshape(-1)\n",
    "\n",
    "# Get reconstruction loss threshold.\n",
    "threshold = np.max(train_mae_loss)\n",
    "print(\"Reconstruction error threshold: \", threshold)\n",
    "\n",
    "plt.hist(train_mae_loss, bins=50)\n",
    "plt.axvline(threshold,ls='--',c='r')\n",
    "plt.xlabel(\"Train MAE loss\")\n",
    "plt.ylabel(\"No of samples\")\n",
    "plt.show()"
   ]
  },
  {
   "cell_type": "code",
   "execution_count": null,
   "id": "621f5845-1d92-42f5-ab1e-7f5765829cb5",
   "metadata": {},
   "outputs": [],
   "source": [
    "# Checking how the first sequence is learnt\n",
    "plt.plot(t_train[0],x_train[0,:,0])\n",
    "plt.plot(t_train[0],x_train_pred[0,:,0])\n",
    "plt.xticks(rotation=45)\n",
    "plt.show()"
   ]
  },
  {
   "cell_type": "code",
   "execution_count": null,
   "id": "59821f74-7548-4911-9d09-f3f101a2d716",
   "metadata": {},
   "outputs": [],
   "source": [
    "test_interval = timeinterval.TimeInterval(datetime.datetime(2022,1,1),datetime.datetime(2022,3,31))\n",
    "status, rawdtesting = cdas.get_data(dataset, var_names, test_interval)\n",
    "good = [not isnan(val) for val in rawdtesting['psp_fld_l2_mag_RTN_1min'][:,0]]\n",
    "test_t = np.array(rawdtesting['epoch_mag_RTN_1min'][good])\n",
    "test_d = np.array(rawdtesting['psp_fld_l2_mag_RTN_1min'][good,:])\n",
    "(x_test, t_test) = create_sequences(test_d,test_t,TIME_STEPS)\n",
    "print(\"Testing input shape: \", x_train.shape)"
   ]
  },
  {
   "cell_type": "code",
   "execution_count": null,
   "id": "ba24040c-2536-415c-a797-6d008f364589",
   "metadata": {},
   "outputs": [],
   "source": [
    "x_test_pred = model.predict(x_test)\n",
    "test_mae_loss = np.mean(np.abs(x_test_pred - x_test), axis=1)\n",
    "test_mae_loss = np.max(test_mae_loss,axis=-1)\n",
    "\n",
    "plt.hist(test_mae_loss, bins=50)\n",
    "plt.axvline(threshold,ls='--',c='r')\n",
    "plt.xlabel(\"test MAE loss\")\n",
    "plt.ylabel(\"No of samples\")\n",
    "plt.show()\n",
    "\n",
    "# Detect all the samples which are anomalies.\n",
    "anomalies = test_mae_loss > threshold\n",
    "\n",
    "anomalous_idx = []# np.where(anomalies)[0]\n",
    "for data_idx in range(TIME_STEPS - 1, len(x_test) - TIME_STEPS + 1):\n",
    "    if np.all(anomalies[data_idx - TIME_STEPS + 1 : data_idx]):\n",
    "        anomalous_idx.append(data_idx)"
   ]
  },
  {
   "cell_type": "code",
   "execution_count": null,
   "id": "4d88ee79-d293-4744-8315-9ee91bf00766",
   "metadata": {},
   "outputs": [],
   "source": [
    "plt.vlines(test_t[anomalous_idx],-600,600,alpha=0.1,color='red')\n",
    "plt.xlim((test_t[0],test_t[-1]))\n",
    "plt.xticks(rotation=45)\n",
    "plt.show()"
   ]
  },
  {
   "cell_type": "code",
   "execution_count": null,
   "id": "ffff3298-53af-447f-a20c-c9363892c92e",
   "metadata": {},
   "outputs": [],
   "source": [
    "plt.vlines(test_t[anomalous_idx],-600,600,alpha=0.1,color='red')\n",
    "plt.plot(test_t,test_d[:,0])\n",
    "plt.xlim((test_t[0],test_t[-1]))\n",
    "plt.xticks(rotation=45)\n",
    "plt.show()"
   ]
  },
  {
   "cell_type": "code",
   "execution_count": null,
   "id": "b34421dc-bff7-4cf3-9848-615c8faeff63",
   "metadata": {},
   "outputs": [],
   "source": []
  }
 ],
 "metadata": {
  "kernelspec": {
   "display_name": "Python 3 (ipykernel)",
   "language": "python",
   "name": "python3"
  },
  "language_info": {
   "codemirror_mode": {
    "name": "ipython",
    "version": 3
   },
   "file_extension": ".py",
   "mimetype": "text/x-python",
   "name": "python",
   "nbconvert_exporter": "python",
   "pygments_lexer": "ipython3",
   "version": "3.12.0"
  }
 },
 "nbformat": 4,
 "nbformat_minor": 5
}
